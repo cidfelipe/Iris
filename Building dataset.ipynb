{
 "cells": [
  {
   "cell_type": "markdown",
   "metadata": {},
   "source": [
    "# Notebook para criar dataset\n",
    "Usando a lib [twint](https://github.com/twintproject/twint) para realizar o scraping de tweets do twitter.\n",
    "\n",
    "## Importando bibliotecas necessárias\n"
   ]
  },
  {
   "cell_type": "code",
   "execution_count": 1,
   "metadata": {},
   "outputs": [],
   "source": [
    "import twint\n",
    "import nest_asyncio\n",
    "nest_asyncio.apply()\n",
    "import pandas as pd"
   ]
  },
  {
   "cell_type": "markdown",
   "metadata": {},
   "source": [
    "## Função para coletar tweets de um usuário específico"
   ]
  },
  {
   "cell_type": "code",
   "execution_count": 2,
   "metadata": {},
   "outputs": [],
   "source": [
    "def get_user_tweets(user):\n",
    "    c = twint.Config()\n",
    "    c.Username = user\n",
    "    c.Retweets = False\n",
    "    c.Custom['tweet'] = ['tweet']\n",
    "#     c.Since = datetime.strftime(datetime.now() - timedelta(1), '%Y-%m-%d')\n",
    "#     c.Until = datetime.strftime(datetime.now(), '%Y-%m-%d')\n",
    "    c.Store_csv= True\n",
    "    c.Store_object = True\n",
    "    c.Format = ''\n",
    "    c.Output = 'datasets/depressives.csv'\n",
    "    twint.run.Search(c)"
   ]
  },
  {
   "cell_type": "markdown",
   "metadata": {},
   "source": [
    "## Função para coletar tweets de acordo com palavras chave"
   ]
  },
  {
   "cell_type": "code",
   "execution_count": 3,
   "metadata": {},
   "outputs": [],
   "source": [
    "def search_tweets(keyword):\n",
    "    c = twint.Config()\n",
    "    c.Search = keyword\n",
    "    c.Custom['tweet'] = ['tweet']\n",
    "#     c.Since = datetime.strftime(datetime.now() - timedelta(1), '%Y-%m-%d')\n",
    "#     c.Until = datetime.strftime(datetime.now(), '%Y-%m-%d')\n",
    "    c.Lang = 'pt'\n",
    "    c.Store_csv= True\n",
    "    c.Store_object = True\n",
    "    c.Output = 'datasets/random_tweets.csv'\n",
    "    c.Limit = 20\n",
    "    twint.run.Search(c)"
   ]
  },
  {
   "cell_type": "markdown",
   "metadata": {},
   "source": [
    "## Carregando tweets coletados"
   ]
  },
  {
   "cell_type": "code",
   "execution_count": 4,
   "metadata": {},
   "outputs": [],
   "source": [
    "# lendo datasets\n",
    "depressives = pd.read_csv('datasets/depressives.csv', index_col=0)\n",
    "random = pd.read_csv('datasets/random_tweets.csv', index_col=0)\n"
   ]
  },
  {
   "cell_type": "markdown",
   "metadata": {},
   "source": [
    "## Removendo tweets com links"
   ]
  },
  {
   "cell_type": "code",
   "execution_count": 5,
   "metadata": {},
   "outputs": [],
   "source": [
    "bad_words = ['pic.twitter', 'http']"
   ]
  },
  {
   "cell_type": "code",
   "execution_count": 6,
   "metadata": {},
   "outputs": [],
   "source": [
    "for word in bad_words:\n",
    "    depressives = depressives[~depressives.tweet.str.contains(word)]\n",
    "    random = random[~random.tweet.str.contains(word)]"
   ]
  },
  {
   "cell_type": "code",
   "execution_count": 7,
   "metadata": {},
   "outputs": [
    {
     "data": {
      "text/plain": [
       "4796"
      ]
     },
     "execution_count": 7,
     "metadata": {},
     "output_type": "execute_result"
    }
   ],
   "source": [
    "len(depressives)"
   ]
  },
  {
   "cell_type": "code",
   "execution_count": 8,
   "metadata": {},
   "outputs": [
    {
     "data": {
      "text/plain": [
       "4097"
      ]
     },
     "execution_count": 8,
     "metadata": {},
     "output_type": "execute_result"
    }
   ],
   "source": [
    "len(random)"
   ]
  },
  {
   "cell_type": "markdown",
   "metadata": {},
   "source": [
    "## Salvando datasets"
   ]
  },
  {
   "cell_type": "code",
   "execution_count": 9,
   "metadata": {},
   "outputs": [],
   "source": [
    "depressives.to_csv('datasets/depressives.csv')\n",
    "random.to_csv('datasets/random_tweets.csv')"
   ]
  },
  {
   "cell_type": "code",
   "execution_count": null,
   "metadata": {},
   "outputs": [],
   "source": []
  }
 ],
 "metadata": {
  "kernelspec": {
   "display_name": "Python 3",
   "language": "python",
   "name": "python3"
  },
  "language_info": {
   "codemirror_mode": {
    "name": "ipython",
    "version": 3
   },
   "file_extension": ".py",
   "mimetype": "text/x-python",
   "name": "python",
   "nbconvert_exporter": "python",
   "pygments_lexer": "ipython3",
   "version": "3.7.3"
  }
 },
 "nbformat": 4,
 "nbformat_minor": 2
}
