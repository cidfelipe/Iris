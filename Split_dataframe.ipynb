{
 "cells": [
  {
   "cell_type": "code",
   "execution_count": 1,
   "metadata": {},
   "outputs": [],
   "source": [
    "import pandas as pd"
   ]
  },
  {
   "cell_type": "code",
   "execution_count": 2,
   "metadata": {},
   "outputs": [],
   "source": [
    "tweets = pd.read_csv('filtered_tweets.csv')"
   ]
  },
  {
   "cell_type": "code",
   "execution_count": 11,
   "metadata": {},
   "outputs": [],
   "source": [
    "tweets_splited = []\n",
    "for i in range(0,len(tweets), 10):\n",
    "    tweets_splited.append(tweets.iloc[i:i+10])"
   ]
  },
  {
   "cell_type": "code",
   "execution_count": 8,
   "metadata": {},
   "outputs": [
    {
     "data": {
      "text/html": [
       "<div>\n",
       "<style scoped>\n",
       "    .dataframe tbody tr th:only-of-type {\n",
       "        vertical-align: middle;\n",
       "    }\n",
       "\n",
       "    .dataframe tbody tr th {\n",
       "        vertical-align: top;\n",
       "    }\n",
       "\n",
       "    .dataframe thead th {\n",
       "        text-align: right;\n",
       "    }\n",
       "</style>\n",
       "<table border=\"1\" class=\"dataframe\">\n",
       "  <thead>\n",
       "    <tr style=\"text-align: right;\">\n",
       "      <th></th>\n",
       "      <th>Unnamed: 0</th>\n",
       "      <th>username</th>\n",
       "      <th>tweet</th>\n",
       "      <th>link</th>\n",
       "    </tr>\n",
       "  </thead>\n",
       "  <tbody>\n",
       "    <tr>\n",
       "      <th>450</th>\n",
       "      <td>2202</td>\n",
       "      <td>doremifucku</td>\n",
       "      <td>-Ent,eu fui diagnosticado com depressão. -Quer...</td>\n",
       "      <td>https://twitter.com/Doremifucku/status/9765883...</td>\n",
       "    </tr>\n",
       "    <tr>\n",
       "      <th>451</th>\n",
       "      <td>2318</td>\n",
       "      <td>luscatks</td>\n",
       "      <td>Pensando em Quitar nao aguento mais Essa vida ...</td>\n",
       "      <td>https://twitter.com/LuscaTKS/status/9356976591...</td>\n",
       "    </tr>\n",
       "    <tr>\n",
       "      <th>452</th>\n",
       "      <td>2319</td>\n",
       "      <td>lukraq</td>\n",
       "      <td>Uma coisa é tu ter sérios problemas mentais e ...</td>\n",
       "      <td>https://twitter.com/lukraq/status/935304922895...</td>\n",
       "    </tr>\n",
       "  </tbody>\n",
       "</table>\n",
       "</div>"
      ],
      "text/plain": [
       "     Unnamed: 0     username  \\\n",
       "450        2202  doremifucku   \n",
       "451        2318     luscatks   \n",
       "452        2319       lukraq   \n",
       "\n",
       "                                                 tweet  \\\n",
       "450  -Ent,eu fui diagnosticado com depressão. -Quer...   \n",
       "451  Pensando em Quitar nao aguento mais Essa vida ...   \n",
       "452  Uma coisa é tu ter sérios problemas mentais e ...   \n",
       "\n",
       "                                                  link  \n",
       "450  https://twitter.com/Doremifucku/status/9765883...  \n",
       "451  https://twitter.com/LuscaTKS/status/9356976591...  \n",
       "452  https://twitter.com/lukraq/status/935304922895...  "
      ]
     },
     "execution_count": 8,
     "metadata": {},
     "output_type": "execute_result"
    }
   ],
   "source": [
    "tweets.iloc[450:500]"
   ]
  },
  {
   "cell_type": "code",
   "execution_count": 14,
   "metadata": {},
   "outputs": [],
   "source": [
    "for i,data in enumerate(tweets_splited):\n",
    "    data.to_csv('data/tweets'+str(i)+'.csv')"
   ]
  },
  {
   "cell_type": "code",
   "execution_count": null,
   "metadata": {},
   "outputs": [],
   "source": []
  },
  {
   "cell_type": "code",
   "execution_count": null,
   "metadata": {},
   "outputs": [],
   "source": []
  }
 ],
 "metadata": {
  "kernelspec": {
   "display_name": "Python 3",
   "language": "python",
   "name": "python3"
  },
  "language_info": {
   "codemirror_mode": {
    "name": "ipython",
    "version": 3
   },
   "file_extension": ".py",
   "mimetype": "text/x-python",
   "name": "python",
   "nbconvert_exporter": "python",
   "pygments_lexer": "ipython3",
   "version": "3.7.3"
  }
 },
 "nbformat": 4,
 "nbformat_minor": 2
}
