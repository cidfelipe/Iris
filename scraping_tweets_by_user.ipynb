{
 "cells": [
  {
   "cell_type": "markdown",
   "metadata": {},
   "source": [
    "# Scraping de tweets por usuarios"
   ]
  },
  {
   "cell_type": "markdown",
   "metadata": {},
   "source": [
    "### Passo 1: Coletar tweets dado um usuário\n",
    "Para cada usuário autor dos tweets coletados no notebook *scraping_tweets_by_search*, e será salvo em um arquivo csv nomeado de acordo com o usurname"
   ]
  },
  {
   "cell_type": "code",
   "execution_count": null,
   "metadata": {},
   "outputs": [],
   "source": [
    "# Biblioteca para ajudar na execução sincrona do twint\n",
    "!pip install nest_asyncio --user"
   ]
  },
  {
   "cell_type": "code",
   "execution_count": null,
   "metadata": {},
   "outputs": [],
   "source": [
    "# Biblioteca twint para scrape\n",
    "!pip pip3 install --upgrade -e git+https://github.com/twintproject/twint.git@origin/master#egg=twint --user"
   ]
  },
  {
   "cell_type": "code",
   "execution_count": null,
   "metadata": {},
   "outputs": [],
   "source": [
    "def chunks(l, n):\n",
    "    \"\"\"Yield successive n-sized chunks from l.\"\"\"\n",
    "    for i in range(0, len(l), n):\n",
    "        yield l[i:i + n]"
   ]
  },
  {
   "cell_type": "code",
   "execution_count": null,
   "metadata": {},
   "outputs": [],
   "source": [
    "import pandas as pd"
   ]
  },
  {
   "cell_type": "code",
   "execution_count": null,
   "metadata": {},
   "outputs": [],
   "source": [
    "KEYWORDS = '''amigos pessoas cair companheiro quarto faculdade agradável diversão organizar desfrutar caber conversa tempo chupar estúpido odeio inferno bebida merda foda lixo fumo ruim garoto droga louco cachorra pessoa futuro vida possibilidade crescer controle sonho mente mudança momento sentir experiência acontecimento aprenda sono noite manhã cama dia hora tarde amanhã mate estudo sonolento acordado amor vida feliz coração chorar triste mundo duro cicatriz cicatrizes perfeito sentimento sorriso sorrir cuidado forte maravilhoso verdade estranho falar cachorro tempo louco triste coisas engraçado paraíso acontecer ruim lembrar dia ódio adivinhar louco noite machucado tipo cabeça parada olho mão começar sentir tempo dedo braço pescoço mover cadeira estômago incomodar executar ombro dor sensação preocupação estresse estudo tempo difícil relaxar nervoso teste foco escola ansioso concentrado pressão difícil extremamente constantemente oprimir sentir tempo razão deprimir momento ruim mudança confortável erro sozinho sentimento perder culpado emoção confundir realizar conforto superior aconteça odeio doe doente sinto mal magoa cuidado errado acontecer bagunça horrível estúpido louco deixar pior difícil lidar chorar'''\n",
    "KEYWORDS = KEYWORDS.split(' ')\n",
    "KEYWORDS = list(dict.fromkeys(KEYWORDS))\n",
    "\n",
    "KEYWORDS = list(chunks(KEYWORDS, 46))\n",
    "for i,l in enumerate(KEYWORDS):\n",
    "    KEYWORDS[i] = ' OR '.join(l)\n"
   ]
  },
  {
   "cell_type": "markdown",
   "metadata": {},
   "source": [
    "Altere o caminho para um dos arquivos da pasta data, definidos na issue do git e rode as outras celulas"
   ]
  },
  {
   "cell_type": "code",
   "execution_count": null,
   "metadata": {},
   "outputs": [],
   "source": [
    "#altere o numero do caminho aqui\n",
    "TWEETS = pd.read_csv('data/tweets0.csv')"
   ]
  },
  {
   "cell_type": "code",
   "execution_count": null,
   "metadata": {},
   "outputs": [],
   "source": [
    "import twint"
   ]
  },
  {
   "cell_type": "code",
   "execution_count": null,
   "metadata": {},
   "outputs": [],
   "source": [
    "# Método recebe um palavra chave e salva em um csv os resultados encotrados\n",
    "def get_user_tweets(user, keywords):\n",
    "    c = twint.Config()\n",
    "    c.Username = user\n",
    "    c.Search = keywords\n",
    "    c.Custom['tweet'] = ['id','tweet', 'link', 'date', 'time']\n",
    "#     c.Since = datetime.strftime(datetime.now() - timedelta(1), '%Y-%m-%d')\n",
    "#     c.Until = datetime.strftime(datetime.now(), '%Y-%m-%d')\n",
    "    c.Store_csv= True\n",
    "    c.Store_object = True\n",
    "    c.Format = ''\n",
    "    c.Output = 'users/'+user+'.csv'\n",
    "    twint.run.Search(c)\n"
   ]
  },
  {
   "cell_type": "code",
   "execution_count": null,
   "metadata": {},
   "outputs": [],
   "source": [
    "import nest_asyncio\n",
    "nest_asyncio.apply()\n",
    "def get_users_tweets():\n",
    "    for user in TWEETS['username']:\n",
    "        for keyword in KEYWORDS:\n",
    "            print('fetching '+user)\n",
    "            get_user_tweets(user, keyword)\n"
   ]
  },
  {
   "cell_type": "code",
   "execution_count": null,
   "metadata": {
    "scrolled": true
   },
   "outputs": [],
   "source": [
    "get_users_tweets()"
   ]
  },
  {
   "cell_type": "code",
   "execution_count": null,
   "metadata": {},
   "outputs": [],
   "source": []
  }
 ],
 "metadata": {
  "kernelspec": {
   "display_name": "Python 3",
   "language": "python",
   "name": "python3"
  },
  "language_info": {
   "codemirror_mode": {
    "name": "ipython",
    "version": 3
   },
   "file_extension": ".py",
   "mimetype": "text/x-python",
   "name": "python",
   "nbconvert_exporter": "python",
   "pygments_lexer": "ipython3",
   "version": "3.7.3"
  }
 },
 "nbformat": 4,
 "nbformat_minor": 2
}
