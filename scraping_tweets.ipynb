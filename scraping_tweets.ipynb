{
 "cells": [
  {
   "cell_type": "markdown",
   "metadata": {},
   "source": [
    "# Scrape tweets"
   ]
  },
  {
   "cell_type": "markdown",
   "metadata": {},
   "source": [
    "### Passo 1: encontrando pessoas com depressão no twitter\n",
    "Para identificar pessoas com depressão, buscaremos tweets que contenham:\n"
   ]
  },
  {
   "cell_type": "code",
   "execution_count": null,
   "metadata": {},
   "outputs": [],
   "source": [
    "FILENAME = 'tweets'\n",
    "TERMS = [\n",
    "\n",
    "]"
   ]
  },
  {
   "cell_type": "code",
   "execution_count": null,
   "metadata": {},
   "outputs": [],
   "source": [
    "import twint\n",
    "from datetime import datetime, timedelta"
   ]
  },
  {
   "cell_type": "code",
   "execution_count": null,
   "metadata": {},
   "outputs": [],
   "source": [
    "# Método recebe um palavra chave e salva em um csv os resultados encotrados\n",
    "def search_tweets(keyword):\n",
    "    c = twint.Config()\n",
    "    c.Search = keyword\n",
    "    c.Custom['tweet'] = ['username','tweet', 'link']\n",
    "#     c.Since = datetime.strftime(datetime.now() - timedelta(1), '%Y-%m-%d')\n",
    "#     c.Until = datetime.strftime(datetime.now(), '%Y-%m-%d')\n",
    "    c.Store_csv= True\n",
    "    c.Store_object = True\n",
    "    c.Output = FILENAME+'.csv'\n",
    "    \n",
    "    twint.run.Search(c)"
   ]
  },
  {
   "cell_type": "code",
   "execution_count": null,
   "metadata": {},
   "outputs": [],
   "source": [
    "def search_by_terms():\n",
    "    for term in TERMS:\n",
    "        search_tweets(term)"
   ]
  },
  {
   "cell_type": "code",
   "execution_count": null,
   "metadata": {},
   "outputs": [],
   "source": [
    "search_by_terms()"
   ]
  },
  {
   "cell_type": "markdown",
   "metadata": {},
   "source": [
    "### Passo 2: Validando os tweets encontrados\n",
    "Após realizar a busca com os termos, é preciso validar os tweets. Essa etapa é feita manualmente.\n"
   ]
  },
  {
   "cell_type": "code",
   "execution_count": null,
   "metadata": {},
   "outputs": [],
   "source": [
    "import pandas as pd"
   ]
  },
  {
   "cell_type": "code",
   "execution_count": null,
   "metadata": {},
   "outputs": [],
   "source": [
    "tweets = pd.read_csv(FILENAME+'.csv')\n",
    "print('Total de tweets: {}'.format(str(tweets.shape[0])))"
   ]
  },
  {
   "cell_type": "code",
   "execution_count": null,
   "metadata": {},
   "outputs": [],
   "source": []
  }
 ],
 "metadata": {
  "kernelspec": {
   "display_name": "Python 3",
   "language": "python",
   "name": "python3"
  },
  "language_info": {
   "codemirror_mode": {
    "name": "ipython",
    "version": 3
   },
   "file_extension": ".py",
   "mimetype": "text/x-python",
   "name": "python",
   "nbconvert_exporter": "python",
   "pygments_lexer": "ipython3",
   "version": "3.7.3"
  }
 },
 "nbformat": 4,
 "nbformat_minor": 2
}
